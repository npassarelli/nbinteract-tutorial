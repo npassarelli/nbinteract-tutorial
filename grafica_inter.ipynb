{
 "cells": [
  {
   "cell_type": "code",
   "execution_count": null,
   "id": "a9b8a07a",
   "metadata": {},
   "outputs": [],
   "source": []
  },
  {
   "cell_type": "code",
   "execution_count": null,
   "id": "4ef4b4c1",
   "metadata": {
    "scrolled": true
   },
   "outputs": [],
   "source": []
  },
  {
   "cell_type": "code",
   "execution_count": null,
   "id": "abb01271",
   "metadata": {},
   "outputs": [],
   "source": []
  },
  {
   "cell_type": "code",
   "execution_count": null,
   "id": "96c5aece",
   "metadata": {},
   "outputs": [],
   "source": []
  },
  {
   "cell_type": "code",
   "execution_count": 60,
   "id": "4a6ec288",
   "metadata": {},
   "outputs": [],
   "source": [
    "import h5py\n",
    "def readE(file1):\n",
    "#read all datasets\n",
    "\tlista=list(file1.keys())\n",
    "\t#print(lista)\n",
    "\tfor xi in lista:\n",
    "\t\tglobals()[xi]=np.squeeze(np.asarray( file1.get(xi)))\n",
    "\t\tdt=globals()[xi].dtype\n",
    "\t\tprint(xi,dt)\n",
    "\t\tif dt== [('real', '<f8'), ('imag', '<f8')]: #transform complex for numpy \n",
    "\t\t\tif globals()[xi].shape==():\n",
    "\t\t\t\tglobals()[xi]=globals()[xi]['real']+1j*globals()[xi]['imag']\n",
    "\t\t\telse:\n",
    "\t\t\t\tglobals()[xi]=globals()[xi][:]['real']+1j*globals()[xi][:]['imag']\n",
    "#\twls=c/f*1e9\n",
    "\treturn wls*1e9,E,x,y,z\n",
    "\n"
   ]
  },
  {
   "cell_type": "code",
   "execution_count": 61,
   "id": "ec656d34",
   "metadata": {},
   "outputs": [
    {
     "name": "stdout",
     "output_type": "stream",
     "text": [
      "E [('real', '<f8'), ('imag', '<f8')]\n",
      "neff [('real', '<f8'), ('imag', '<f8')]\n",
      "wls float64\n",
      "x float64\n",
      "y float64\n",
      "z float64\n",
      "(28,)\n",
      "(28, 424, 649)\n",
      "()\n",
      "(649,)\n",
      "(424,)\n"
     ]
    }
   ],
   "source": [
    "file1=h5py.File('TEanti.mat')\n",
    "wls,E_TEanti,x,y,z=readE(file1)\n",
    "\n",
    "print(wls.shape)\n",
    "print(E.shape)\n",
    "print(x.shape)\n",
    "print(y.shape)\n",
    "print(z.shape)"
   ]
  },
  {
   "cell_type": "code",
   "execution_count": 62,
   "id": "b0c7d679",
   "metadata": {},
   "outputs": [],
   "source": [
    "import matplotlib\n",
    "import matplotlib.pyplot as plt\n",
    "from IPython.display import display\n",
    "title='TE_anti'\n",
    "\n",
    "def plotE(wl):\n",
    "    #mode 1  E\n",
    "    index=np.argmin(np.abs(wls-wl))\n",
    "    Eplot=np.real(E_TEanti)\n",
    "    Eplot=Eplot[index,:,:]\n",
    "    #eps1=index\n",
    "\n",
    "    fig, ax1 =plt.subplots(nrows=1, ncols=1, sharex=True)\n",
    "    matplotlib.rcParams.update({'font.size': 18})\n",
    "\n",
    "\n",
    "    pcm=plt.pcolormesh( y*1e6, z*1e6 ,Eplot,cmap='PuOr',vmin=-1,vmax=1)\n",
    "    #plt.colorbar(pcm,label='$|E|^2 (V^2/m^2)$')\n",
    "    ymesh,zmesh=np.meshgrid(y*1e6,z*1e6)\n",
    "\n",
    "    #listcontour=np.unique(np.round(np.real(eps1).flatten(),5))\n",
    "\n",
    "    #ctr=plt.contour(ymesh,zmesh,np.real(eps1),levels=listcontour,colors='gray',linewidths=.5)\n",
    "\n",
    "    ax1.set_ylabel('z ($\\\\mu m$)')\n",
    "    ax1.set_xlabel(\"y ($\\\\mu m$)\")\n",
    "    #ax1.yaxis.set_major_locator(MaxNLocator(integer=True))\n",
    "    #ax1.set_xlim([yminplot,ymaxplot])\n",
    "    #ax1.set_ylim([zminplot,zmaxplot])\n",
    "    ax1.set_xticks([-15,0,15])\n",
    "    ax1.set_yticks([-3,0,3])\n",
    "    plt.subplots_adjust(left=0.2, bottom=0.2, right=.9, top=.9)\n",
    "    plt.show()\n",
    "    #plt.savefig(title+'.png', transparent=True)\n",
    "   # display(wls[index])\n"
   ]
  },
  {
   "cell_type": "code",
   "execution_count": 63,
   "id": "81ef1d20",
   "metadata": {
    "scrolled": true
   },
   "outputs": [
    {
     "data": {
      "application/vnd.jupyter.widget-view+json": {
       "model_id": "b8e857b8c26348f58bbbf01ffcb7a668",
       "version_major": 2,
       "version_minor": 0
      },
      "text/plain": [
       "interactive(children=(FloatSlider(value=1350.0, description='wl', max=1800.0, min=900.0), Output()), _dom_clas…"
      ]
     },
     "metadata": {},
     "output_type": "display_data"
    }
   ],
   "source": [
    "import ipywidgets as widgets\n",
    "w=widgets.interact(plotE, wl=(np.min(wls),np.max(wls) ) )"
   ]
  },
  {
   "cell_type": "code",
   "execution_count": 56,
   "id": "8b8033e1",
   "metadata": {},
   "outputs": [],
   "source": [
    "from ipywidgets.embed import embed_minimal_html\n",
    "embed_minimal_html('export.html', views=[w], title='Widgets export')"
   ]
  },
  {
   "cell_type": "code",
   "execution_count": null,
   "id": "84ecae75",
   "metadata": {},
   "outputs": [],
   "source": []
  }
 ],
 "metadata": {
  "kernelspec": {
   "display_name": "Python 3 (ipykernel)",
   "language": "python",
   "name": "python3"
  },
  "language_info": {
   "codemirror_mode": {
    "name": "ipython",
    "version": 3
   },
   "file_extension": ".py",
   "mimetype": "text/x-python",
   "name": "python",
   "nbconvert_exporter": "python",
   "pygments_lexer": "ipython3",
   "version": "3.9.12"
  }
 },
 "nbformat": 4,
 "nbformat_minor": 5
}
